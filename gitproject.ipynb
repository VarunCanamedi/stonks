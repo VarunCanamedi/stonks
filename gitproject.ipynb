{
 "cells": [
  {
   "cell_type": "code",
   "execution_count": 1,
   "metadata": {},
   "outputs": [],
   "source": [
    "from bs4 import BeautifulSoup\n",
    "import requests\n",
    "import pandas as pd\n",
    "import csv\n",
    "import datetime"
   ]
  },
  {
   "cell_type": "code",
   "execution_count": 2,
   "metadata": {},
   "outputs": [],
   "source": [
    "def total_cases():\n",
    "    source = requests.get('https://www.mohfw.gov.in/').text\n",
    "    bat_soup = BeautifulSoup(source,'lxml')\n",
    "    div = bat_soup.find('div',class_='site-stats-count')\n",
    "    inf_num = int(div.ul.strong.text)\n",
    "    return inf_num\n",
    "\n",
    "t_c=total_cases()"
   ]
  },
  {
   "cell_type": "code",
   "execution_count": 3,
   "metadata": {},
   "outputs": [],
   "source": [
    "def date_time():\n",
    "    dates = datetime.datetime.now()\n",
    "    return dates\n",
    "\n",
    "date = date_time()"
   ]
  },
  {
   "cell_type": "code",
   "execution_count": 4,
   "metadata": {},
   "outputs": [],
   "source": [
    "with open('corona.csv', 'a+', newline= '') as csvfile:\n",
    "    csv_writer = csv.writer(csvfile, delimiter = '\\t')\n",
    "    csv_writer.writerow([date, t_c])"
   ]
  }
 ],
 "metadata": {
  "kernelspec": {
   "display_name": "Python 3",
   "language": "python",
   "name": "python3"
  },
  "language_info": {
   "codemirror_mode": {
    "name": "ipython",
    "version": 3
   },
   "file_extension": ".py",
   "mimetype": "text/x-python",
   "name": "python",
   "nbconvert_exporter": "python",
   "pygments_lexer": "ipython3",
   "version": "3.6.9"
  },
  "widgets": {
   "application/vnd.jupyter.widget-state+json": {
    "state": {},
    "version_major": 2,
    "version_minor": 0
   }
  }
 },
 "nbformat": 4,
 "nbformat_minor": 2
}
